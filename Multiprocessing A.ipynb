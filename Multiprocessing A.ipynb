{
 "cells": [
  {
   "cell_type": "markdown",
   "id": "890a4830-9a48-4c87-b02b-5e9f673a7192",
   "metadata": {},
   "source": [
    "1.) What is multiprocessing in python? Why is it useful?"
   ]
  },
  {
   "cell_type": "markdown",
   "id": "b5f23fe8-ffa4-4ae9-9538-a73bed98c5cf",
   "metadata": {},
   "source": [
    "Multiprocessing in Python refers to the ability to run multiple processes simultaneously in a Python program. Each process is a separate instance of a program, with its own memory space and resources, and they can communicate and share data through various mechanisms provided by the multiprocessing module in Python.\n",
    "\n",
    "Multiprocessing is useful for a number of reasons:\n",
    "\n",
    "Faster execution: By distributing the workload across multiple processes, multiprocessing can take advantage of multi-core CPUs to speed up the execution of a program, especially for CPU-bound tasks.\n",
    "\n",
    "Improved scalability: Multiprocessing can improve the scalability of a program by allowing it to handle a larger number of requests or tasks in parallel.\n",
    "\n",
    "Enhanced reliability: By running tasks in separate processes, multiprocessing can improve the reliability and fault tolerance of a program, as errors in one process are less likely to affect other processes.\n",
    "\n",
    "Easier parallel programming: Multiprocessing provides a high-level abstraction for parallel programming, making it easier to write concurrent and parallel programs without dealing with the complexities of low-level thread synchronization and communication."
   ]
  },
  {
   "cell_type": "code",
   "execution_count": null,
   "id": "f8098cc9-6373-4441-a87e-535614939c44",
   "metadata": {},
   "outputs": [],
   "source": []
  },
  {
   "cell_type": "markdown",
   "id": "fed41ec7-59be-45be-bdc6-c3f9fdc159a2",
   "metadata": {},
   "source": [
    "2.) What are the differences between multiprocessing and multithreading?"
   ]
  },
  {
   "cell_type": "markdown",
   "id": "470d9f28-4d60-4cd1-b444-4d6e44b13a6f",
   "metadata": {},
   "source": [
    "Multiprocessing and multithreading are two different techniques for achieving parallelism in software.\n",
    "\n",
    "Multiprocessing involves running multiple processes simultaneously, each with its own memory space and resources, typically on different cores of a CPU or even on different CPUs. Each process is independent and communicates with other processes through various mechanisms such as pipes, shared memory, and message queues. Multiprocessing is suitable for CPU-bound tasks where the main bottleneck is the amount of processing power needed.\n",
    "\n",
    "Multithreading, on the other hand, involves running multiple threads within a single process, each thread sharing the same memory space and resources as the parent process. Threads run concurrently, with the operating system managing their scheduling and allocation of resources. Multithreading is suitable for I/O-bound tasks where the main bottleneck is waiting for input/output operations to complete.\n",
    "\n",
    "Some key differences between multiprocessing and multithreading are:\n",
    "\n",
    "Resource utilization: Multiprocessing allows better utilization of CPU resources since each process can run on a different core, while multithreading can cause contention for CPU resources between threads.\n",
    "\n",
    "Memory usage: Multiprocessing requires more memory since each process has its own memory space, while multithreading shares the same memory space, which can lead to memory conflicts and synchronization issues.\n",
    "\n",
    "Communication: In multiprocessing, communication between processes requires more overhead since they are separate entities and need to use inter-process communication mechanisms like pipes and queues, while in multithreading communication between threads can be done through shared memory, which is faster and more efficient.\n",
    "\n",
    "Complexity: Multiprocessing can be more complex to implement and debug than multithreading, due to the need for inter-process communication and coordination."
   ]
  },
  {
   "cell_type": "markdown",
   "id": "9703b132-369c-4c57-b8df-5f66ca21e00e",
   "metadata": {},
   "source": [
    "3.) Write a python code to create a process using the multiprocessing module."
   ]
  },
  {
   "cell_type": "code",
   "execution_count": 5,
   "id": "9cef1330-5133-433d-b279-5804fdea9e88",
   "metadata": {},
   "outputs": [
    {
     "name": "stdout",
     "output_type": "stream",
     "text": [
      "This is a child process\n"
     ]
    }
   ],
   "source": [
    "import multiprocessing\n",
    "\n",
    "def process_function():\n",
    "    print(\"This is a child process\")\n",
    "\n",
    "if __name__ == \"__main__\":\n",
    "    # Create a new process\n",
    "    p = multiprocessing.Process(target=process_function)\n",
    "   \n",
    "    # Start the process\n",
    "    p.start()\n",
    "    \n",
    "    # Wait for the process to finish\n",
    "    p.join()"
   ]
  },
  {
   "cell_type": "code",
   "execution_count": null,
   "id": "d763c2d0-c778-49e8-b2f4-c08855b5d33c",
   "metadata": {},
   "outputs": [],
   "source": []
  },
  {
   "cell_type": "markdown",
   "id": "a9777922-19d1-40ec-8f7c-0f13d4f9f109",
   "metadata": {},
   "source": [
    "4.) What is a multiprocessing pool in python? Why is it used?"
   ]
  },
  {
   "cell_type": "markdown",
   "id": "71e8a8b0-45e4-4a09-b424-467a8e7f0c7b",
   "metadata": {},
   "source": [
    "A multiprocessing pool in Python is a group of worker processes that are created to perform parallel processing on a set of tasks. A pool is created using the multiprocessing.Pool() class, which manages a pool of worker processes that can be used to execute tasks concurrently.\n",
    "\n",
    "The pool provides a simple interface for distributing work across multiple processes, using methods such as map(), imap(), and apply_async(). The map() method applies a function to each item in a given iterable, while the imap() method applies a function to each item in an iterable in a lazy manner, yielding results as they become available. The apply_async() method allows for arbitrary function calls to be executed asynchronously.\n",
    "\n",
    "Multiprocessing pools are useful in situations where there is a large amount of data to process or a large number of independent tasks that can be executed in parallel. By dividing the work among multiple processes, multiprocessing can significantly reduce the processing time."
   ]
  },
  {
   "cell_type": "code",
   "execution_count": 6,
   "id": "dabfe493-6182-48db-a4fe-1fc3c029a7a5",
   "metadata": {},
   "outputs": [
    {
     "name": "stdout",
     "output_type": "stream",
     "text": [
      "[1, 4, 9, 16, 25]\n"
     ]
    }
   ],
   "source": [
    "import multiprocessing\n",
    "\n",
    "def square(x):\n",
    "    return x*x\n",
    "\n",
    "if __name__ == '__main__':\n",
    "    with multiprocessing.Pool(processes=4) as pool:\n",
    "        numbers = [1, 2, 3, 4, 5]\n",
    "        results = pool.map(square, numbers)\n",
    "        print(results)"
   ]
  },
  {
   "cell_type": "code",
   "execution_count": null,
   "id": "c22b945a-448d-4b9c-97b9-088dad8ee068",
   "metadata": {},
   "outputs": [],
   "source": []
  },
  {
   "cell_type": "markdown",
   "id": "cbe8c80f-a993-4963-ae1f-38ce508f200a",
   "metadata": {},
   "source": [
    "5.)How can we create a pool of worker processes in python using the multiprocessing module?"
   ]
  },
  {
   "cell_type": "code",
   "execution_count": 8,
   "id": "956be1b9-67ff-426e-a5ff-bef81e65e65e",
   "metadata": {},
   "outputs": [
    {
     "name": "stdout",
     "output_type": "stream",
     "text": [
      "Processing:Processing:Processing:Processing:    1432\n",
      "\n",
      "\n",
      "\n",
      "Processing: 5\n"
     ]
    }
   ],
   "source": [
    "import multiprocessing\n",
    "\n",
    "def worker_function(param):\n",
    "    print(\"Processing:\", param)\n",
    "\n",
    "if __name__ == \"__main__\":\n",
    "    # Create a pool of worker processes with 4 workers\n",
    "    with multiprocessing.Pool(processes=4) as pool:\n",
    "        # Execute the worker function for each parameter in the list\n",
    "        pool.map(worker_function, [1, 2, 3, 4, 5])"
   ]
  },
  {
   "cell_type": "markdown",
   "id": "ede83e42-89ae-446d-9b3a-78c9f6a5e7d9",
   "metadata": {},
   "source": [
    "In this example, we define a function worker_function that simply prints a message to the console with a parameter. We then create a pool of worker processes with 4 workers using the multiprocessing.Pool(processes=4) constructor. The with statement is used to ensure that the pool is properly cleaned up at the end of execution.\n",
    "\n",
    "We then use the map() method to apply the worker_function to each element in the list [1, 2, 3, 4, 5]. The map() method returns a list of results, but in this case we don't do anything with the returned values. The worker function is executed concurrently by the worker processes in the pool, and the messages are printed to the console in random order.\n",
    "\n",
    "Note that we use the if __name__ == \"__main__\": statement to ensure that the code for creating and starting the pool is only executed when the script is run as the main program, and not when it is imported as a module. This is a best practice when using the multiprocessing module.\n"
   ]
  },
  {
   "cell_type": "code",
   "execution_count": null,
   "id": "e14ff60f-3f2c-45ec-b4b0-851199a02927",
   "metadata": {},
   "outputs": [],
   "source": []
  },
  {
   "cell_type": "markdown",
   "id": "66674e61-ef27-4711-8a54-c83191c9c890",
   "metadata": {},
   "source": [
    "6.) Write a python program to create 4 processes, each process should print a different number using the\n",
    "multiprocessing module in python."
   ]
  },
  {
   "cell_type": "code",
   "execution_count": 9,
   "id": "ee090f34-3cee-4ade-a79d-f89e49673480",
   "metadata": {},
   "outputs": [
    {
     "name": "stdout",
     "output_type": "stream",
     "text": [
      "1234\n",
      "\n",
      "\n",
      "\n"
     ]
    }
   ],
   "source": [
    "import multiprocessing\n",
    "\n",
    "def print_number(num):\n",
    "    print(num)\n",
    "\n",
    "if __name__ == \"__main__\":\n",
    "    with multiprocessing.Pool(processes=4) as pool:\n",
    "        pool.map(print_number, [1, 2, 3, 4])"
   ]
  },
  {
   "cell_type": "markdown",
   "id": "dc443dd3-2940-4be7-9c9d-40a5c6f09ba0",
   "metadata": {},
   "source": [
    "In this example, we define a function print_number that simply prints a number to the console. We then create a pool of 4 worker processes using the multiprocessing.Pool(processes=4) constructor. The with statement is used to ensure that the pool is properly cleaned up at the end of execution.\n",
    "\n",
    "We then use the map() method to apply the print_number function to each element in the list [1, 2, 3, 4]. The map() method returns a list of results, but in this case we don't do anything with the returned values. The print_number function is executed concurrently by the worker processes in the pool, and each process prints a different number to the console."
   ]
  },
  {
   "cell_type": "code",
   "execution_count": null,
   "id": "dc8b42c4-75de-4266-b425-26297eb0a7b4",
   "metadata": {},
   "outputs": [],
   "source": []
  }
 ],
 "metadata": {
  "kernelspec": {
   "display_name": "Python 3 (ipykernel)",
   "language": "python",
   "name": "python3"
  },
  "language_info": {
   "codemirror_mode": {
    "name": "ipython",
    "version": 3
   },
   "file_extension": ".py",
   "mimetype": "text/x-python",
   "name": "python",
   "nbconvert_exporter": "python",
   "pygments_lexer": "ipython3",
   "version": "3.10.8"
  }
 },
 "nbformat": 4,
 "nbformat_minor": 5
}
